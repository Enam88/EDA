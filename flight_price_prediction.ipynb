{
  "nbformat": 4,
  "nbformat_minor": 0,
  "metadata": {
    "colab": {
      "name": "flight_price_prediction.ipynb",
      "provenance": [],
      "authorship_tag": "ABX9TyPi4ONwEszZAhWlkCm3MjnR"
    },
    "kernelspec": {
      "name": "python3",
      "display_name": "Python 3"
    },
    "language_info": {
      "name": "python"
    }
  },
  "cells": [
    {
      "cell_type": "code",
      "execution_count": null,
      "metadata": {
        "id": "-ugRk1LASt6G"
      },
      "outputs": [],
      "source": [
        "#import basic libraries\n",
        "import pandas as pd\n",
        "import numpy as np\n",
        "import matplotlib.pyplot as plt\n",
        "import seaborn as sns\n",
        "%matplotlib inline"
      ]
    },
    {
      "cell_type": "code",
      "source": [
        "#mount google drive\n",
        "from google.colab import drive\n",
        "drive.mount('/content/drive')"
      ],
      "metadata": {
        "id": "AN6P9vghTIGa"
      },
      "execution_count": null,
      "outputs": []
    },
    {
      "cell_type": "code",
      "source": [
        "#open folder in google drive containing datasets\n",
        "%cd /content/drive/My Drive/flight_price prediction dataset/"
      ],
      "metadata": {
        "id": "FNWFjBQFTLDv"
      },
      "execution_count": null,
      "outputs": []
    },
    {
      "cell_type": "code",
      "source": [
        "df_train = pd.read_excel(\"Data_Train.xlsx\")"
      ],
      "metadata": {
        "id": "wKFM-skoT8Fk"
      },
      "execution_count": null,
      "outputs": []
    },
    {
      "cell_type": "code",
      "source": [
        "df_test = pd.read_excel(\"Test_set.xlsx\")"
      ],
      "metadata": {
        "id": "W3--xgvNUUVg"
      },
      "execution_count": null,
      "outputs": []
    },
    {
      "cell_type": "code",
      "source": [
        "df_train.head()"
      ],
      "metadata": {
        "id": "m82r3gGUUgOp"
      },
      "execution_count": null,
      "outputs": []
    },
    {
      "cell_type": "code",
      "source": [
        "df_test.head()"
      ],
      "metadata": {
        "id": "amcbQDiVVpSF"
      },
      "execution_count": null,
      "outputs": []
    },
    {
      "cell_type": "code",
      "source": [
        "df_train.shape"
      ],
      "metadata": {
        "id": "MDp8h2wMVulc"
      },
      "execution_count": null,
      "outputs": []
    },
    {
      "cell_type": "code",
      "source": [
        "df_test.shape"
      ],
      "metadata": {
        "id": "QbtowfaoVxbi"
      },
      "execution_count": null,
      "outputs": []
    },
    {
      "cell_type": "code",
      "source": [
        "final_df = df_train.append(df_test)\n",
        "final_df.head()"
      ],
      "metadata": {
        "id": "GxgCCpEEV6tE"
      },
      "execution_count": null,
      "outputs": []
    },
    {
      "cell_type": "code",
      "source": [
        "final_df.tail()"
      ],
      "metadata": {
        "id": "ShAAtcg7Ww_q"
      },
      "execution_count": null,
      "outputs": []
    },
    {
      "cell_type": "code",
      "source": [
        "final_df.isnull().sum()"
      ],
      "metadata": {
        "id": "HdE5J-gaeNAP"
      },
      "execution_count": null,
      "outputs": []
    },
    {
      "cell_type": "code",
      "source": [
        "final_df.info()"
      ],
      "metadata": {
        "id": "S4RB57thW29j"
      },
      "execution_count": null,
      "outputs": []
    },
    {
      "cell_type": "code",
      "source": [
        "# pd.to_datetime(final_df['Date_of_Journey'], infer_datetime_format=True)"
      ],
      "metadata": {
        "id": "E7tkRjqTXYQz"
      },
      "execution_count": null,
      "outputs": []
    },
    {
      "cell_type": "markdown",
      "source": [
        "##Feature Engineering"
      ],
      "metadata": {
        "id": "XzD9ex9tZ_Ij"
      }
    },
    {
      "cell_type": "code",
      "source": [
        "final_df['Day'] = final_df['Date_of_Journey'].str.split('/').str[0]\n",
        "final_df['Month'] = final_df['Date_of_Journey'].str.split('/').str[1]\n",
        "final_df['Year'] = final_df['Date_of_Journey'].str.split('/').str[2]"
      ],
      "metadata": {
        "id": "5n6Dl-B0Xur_"
      },
      "execution_count": null,
      "outputs": []
    },
    {
      "cell_type": "code",
      "source": [
        "final_df.head()"
      ],
      "metadata": {
        "id": "E_FviLUqYK9u"
      },
      "execution_count": null,
      "outputs": []
    },
    {
      "cell_type": "code",
      "source": [
        "# df[\"Date\"]=df['Date_of_Journey'].apply(lambda x:x.split(\"/\")[0])\n",
        "# df[\"Month\"]=df['Date_of_Journey'].apply(lambda x:x.split(\"/\")[1])\n",
        "# df[\"Year\"]=df['Date_of_Journey'].apply(lambda x:x.split(\"/\")[2])"
      ],
      "metadata": {
        "id": "9gz9kkQiYbVG"
      },
      "execution_count": null,
      "outputs": []
    },
    {
      "cell_type": "code",
      "source": [
        "final_df['Day'] = final_df['Day'].astype(int)\n",
        "final_df['Month'] = final_df['Month'].astype(int)\n",
        "final_df['Year'] = final_df['Year'].astype(int)"
      ],
      "metadata": {
        "id": "Fw2qa0scbePK"
      },
      "execution_count": null,
      "outputs": []
    },
    {
      "cell_type": "code",
      "source": [
        "final_df.info()"
      ],
      "metadata": {
        "id": "oYa4uTeibvUc"
      },
      "execution_count": null,
      "outputs": []
    },
    {
      "cell_type": "code",
      "source": [
        "final_df.drop('Date_of_Journey', axis=1, inplace=True)"
      ],
      "metadata": {
        "id": "gpQNPu0vbyJJ"
      },
      "execution_count": null,
      "outputs": []
    },
    {
      "cell_type": "code",
      "source": [
        "final_df.head()"
      ],
      "metadata": {
        "id": "ic4wC2J_cUDF"
      },
      "execution_count": null,
      "outputs": []
    },
    {
      "cell_type": "code",
      "source": [
        "# final_df['Arrival_Time'].str.split(' ').str[0]"
      ],
      "metadata": {
        "id": "qNJ9CUu0cVjI"
      },
      "execution_count": null,
      "outputs": []
    },
    {
      "cell_type": "code",
      "source": [
        "final_df[\"Arrival_Time\"] = final_df['Arrival_Time'].apply(lambda x:x.split(\" \")[0])"
      ],
      "metadata": {
        "id": "9VNGDukjdAKf"
      },
      "execution_count": null,
      "outputs": []
    },
    {
      "cell_type": "code",
      "source": [
        "final_df.head()"
      ],
      "metadata": {
        "id": "ubsMMyC3dttd"
      },
      "execution_count": null,
      "outputs": []
    },
    {
      "cell_type": "code",
      "source": [
        "final_df[\"Arrival_hour\"] = final_df['Arrival_Time'].apply(lambda x:x.split(\":\")[0])\n",
        "final_df[\"Arrival_min\"] = final_df['Arrival_Time'].apply(lambda x:x.split(\":\")[1])"
      ],
      "metadata": {
        "id": "VGvUvU9Od-49"
      },
      "execution_count": null,
      "outputs": []
    },
    {
      "cell_type": "code",
      "source": [
        "final_df.head(1)"
      ],
      "metadata": {
        "id": "-l9odr6Ne-fu"
      },
      "execution_count": null,
      "outputs": []
    },
    {
      "cell_type": "code",
      "source": [
        "final_df['Arrival_hour'] = final_df['Arrival_hour'].astype(int)\n",
        "final_df['Arrival_min'] = final_df['Arrival_min'].astype(int)"
      ],
      "metadata": {
        "id": "Ntxvhg_FfdbK"
      },
      "execution_count": null,
      "outputs": []
    },
    {
      "cell_type": "code",
      "source": [
        "final_df.drop(\"Arrival_Time\", axis=1, inplace=True)"
      ],
      "metadata": {
        "id": "m84KRWV2fA-v"
      },
      "execution_count": null,
      "outputs": []
    },
    {
      "cell_type": "code",
      "source": [
        "final_df.head(1)"
      ],
      "metadata": {
        "id": "SrXT1xOBf800"
      },
      "execution_count": null,
      "outputs": []
    },
    {
      "cell_type": "code",
      "source": [
        "final_df['Dep_Hour'] = final_df['Dep_Time'].str.split(\":\").str[0]\n",
        "final_df['Dep_Min'] = final_df['Dep_Time'].str.split(\":\").str[1]"
      ],
      "metadata": {
        "id": "CStchoqRgHxG"
      },
      "execution_count": null,
      "outputs": []
    },
    {
      "cell_type": "code",
      "source": [
        "final_df['Dep_Hour'] = final_df['Dep_Hour'].astype(int)\n",
        "final_df['Dep_Min'] = final_df['Dep_Min'].astype(int)"
      ],
      "metadata": {
        "id": "UDPlEjsKgBza"
      },
      "execution_count": null,
      "outputs": []
    },
    {
      "cell_type": "code",
      "source": [
        "final_df.drop(\"Dep_Time\", axis=1, inplace=True)"
      ],
      "metadata": {
        "id": "d25NWiNSg06K"
      },
      "execution_count": null,
      "outputs": []
    },
    {
      "cell_type": "code",
      "source": [
        "final_df.info()"
      ],
      "metadata": {
        "id": "9vgH-h_BhMIv"
      },
      "execution_count": null,
      "outputs": []
    },
    {
      "cell_type": "code",
      "source": [
        "final_df['Total_Stops'].unique()"
      ],
      "metadata": {
        "id": "PGzeC0kbhPHV"
      },
      "execution_count": null,
      "outputs": []
    },
    {
      "cell_type": "code",
      "source": [
        "final_df['Total_Stops'] = final_df['Total_Stops'].map({'non-stop':0, '1 stop':1, '2 stops':2, '3 stops':3,\n",
        "                                                      '4 stops':4, 'nan':2})"
      ],
      "metadata": {
        "id": "3kBs40DGiVvK"
      },
      "execution_count": null,
      "outputs": []
    },
    {
      "cell_type": "code",
      "source": [
        "final_df.head()"
      ],
      "metadata": {
        "id": "Ufitu0hVjZUK"
      },
      "execution_count": null,
      "outputs": []
    },
    {
      "cell_type": "code",
      "source": [
        "final_df.drop(\"Route\", axis=1, inplace=True)"
      ],
      "metadata": {
        "id": "Ou5cVCmOjcMV"
      },
      "execution_count": null,
      "outputs": []
    },
    {
      "cell_type": "code",
      "source": [
        "final_df.head(1)"
      ],
      "metadata": {
        "id": "GOmzT2Aaj-2N"
      },
      "execution_count": null,
      "outputs": []
    },
    {
      "cell_type": "code",
      "source": [
        "final_df[final_df[\"Total_Stops\"].isnull()]"
      ],
      "metadata": {
        "id": "Ipb1_h1vkBG0"
      },
      "execution_count": null,
      "outputs": []
    },
    {
      "cell_type": "code",
      "source": [
        "final_df.head()"
      ],
      "metadata": {
        "id": "zTescsRnlF43"
      },
      "execution_count": null,
      "outputs": []
    },
    {
      "cell_type": "code",
      "source": [
        "final_df[\"Duration_Hour\"]"
      ],
      "metadata": {
        "id": "myAkW_Upq5cO"
      },
      "execution_count": null,
      "outputs": []
    },
    {
      "cell_type": "code",
      "source": [
        "final_df['Duration']"
      ],
      "metadata": {
        "id": "4aC51RW4tJ2m"
      },
      "execution_count": null,
      "outputs": []
    },
    {
      "cell_type": "code",
      "source": [
        "final_df[\"Duration_Hour\"] = final_df[\"Duration\"].str.split(\" \").str[0].str.split(\"h\").str[0]"
      ],
      "metadata": {
        "id": "O4Zz1v3OsJCB"
      },
      "execution_count": null,
      "outputs": []
    },
    {
      "cell_type": "code",
      "source": [
        "final_df[\"Duration_Min\"] = final_df[\"Duration\"].str.split(\" \").str[1].str.split(\"m\").str[0]"
      ],
      "metadata": {
        "id": "BJCZhR_bm6St"
      },
      "execution_count": null,
      "outputs": []
    },
    {
      "cell_type": "code",
      "source": [
        " final_df[final_df[\"Duration_Hour\"] == '5m']"
      ],
      "metadata": {
        "id": "XMlfiLMasUfF"
      },
      "execution_count": null,
      "outputs": []
    },
    {
      "cell_type": "code",
      "source": [
        "final_df.drop(6474, axis=0, inplace=True)\n",
        "final_df.drop(2660, axis=0, inplace=True)"
      ],
      "metadata": {
        "id": "S6VQs3kGtpaH"
      },
      "execution_count": null,
      "outputs": []
    },
    {
      "cell_type": "code",
      "source": [
        "final_df[\"Duration_Hour\"] = final_df[\"Duration_Hour\"].astype(int)"
      ],
      "metadata": {
        "id": "H85aWWCAsftx"
      },
      "execution_count": null,
      "outputs": []
    },
    {
      "cell_type": "code",
      "source": [
        "final_df[\"Duration_Hour\"] = final_df[\"Duration_Hour\"] * 60"
      ],
      "metadata": {
        "id": "jSZT7VD-ultA"
      },
      "execution_count": null,
      "outputs": []
    },
    {
      "cell_type": "code",
      "source": [
        "final_df[final_df['Duration_Min'].isnull()]"
      ],
      "metadata": {
        "id": "C1-5lx12uZQH"
      },
      "execution_count": null,
      "outputs": []
    },
    {
      "cell_type": "code",
      "source": [
        "final_df['Duration_Min'] = final_df['Duration_Min'].fillna(0)"
      ],
      "metadata": {
        "id": "kg_v2boZwPYZ"
      },
      "execution_count": null,
      "outputs": []
    },
    {
      "cell_type": "code",
      "source": [
        "final_df['Duration_Min'] = final_df['Duration_Min'].astype(int)"
      ],
      "metadata": {
        "id": "qjRUX6PUvRIr"
      },
      "execution_count": null,
      "outputs": []
    },
    {
      "cell_type": "code",
      "source": [
        "final_df.drop('Duration', axis=1, inplace=True)"
      ],
      "metadata": {
        "id": "4KZRLHE5vbM6"
      },
      "execution_count": null,
      "outputs": []
    },
    {
      "cell_type": "code",
      "source": [
        "final_df.info()"
      ],
      "metadata": {
        "id": "2la1oqVUxOKj"
      },
      "execution_count": null,
      "outputs": []
    },
    {
      "cell_type": "code",
      "source": [
        "final_df['Airline'].unique()"
      ],
      "metadata": {
        "id": "PH-jxExJxRLt"
      },
      "execution_count": null,
      "outputs": []
    },
    {
      "cell_type": "code",
      "source": [
        "final_df['Source'].unique()"
      ],
      "metadata": {
        "id": "UN_6kI_TyL2c"
      },
      "execution_count": null,
      "outputs": []
    },
    {
      "cell_type": "code",
      "source": [
        "final_df['Destination'].unique()"
      ],
      "metadata": {
        "id": "oPBPtREWyTkb"
      },
      "execution_count": null,
      "outputs": []
    },
    {
      "cell_type": "code",
      "source": [
        "final_df['Additional_Info'].unique()"
      ],
      "metadata": {
        "id": "JqQkqitKycJ9"
      },
      "execution_count": null,
      "outputs": []
    },
    {
      "cell_type": "code",
      "source": [
        "from sklearn.preprocessing import LabelEncoder\n",
        "labelencoder = LabelEncoder()"
      ],
      "metadata": {
        "id": "pbwciJx2xpGU"
      },
      "execution_count": null,
      "outputs": []
    },
    {
      "cell_type": "code",
      "source": [
        "final_df['Airline'] = labelencoder.fit_transform(final_df['Airline'])\n",
        "final_df['Source'] = labelencoder.fit_transform(final_df['Source'])\n",
        "final_df['Destination'] = labelencoder.fit_transform(final_df['Destination'])"
      ],
      "metadata": {
        "id": "koBo0_U3yms_"
      },
      "execution_count": null,
      "outputs": []
    },
    {
      "cell_type": "code",
      "source": [
        "final_df['Additional_Info'] = labelencoder.fit_transform(final_df['Additional_Info'])"
      ],
      "metadata": {
        "id": "4iU-GYvHzSos"
      },
      "execution_count": null,
      "outputs": []
    },
    {
      "cell_type": "code",
      "source": [
        "final_df.shape"
      ],
      "metadata": {
        "id": "1N9ww2qRzFmd"
      },
      "execution_count": null,
      "outputs": []
    },
    {
      "cell_type": "code",
      "source": [
        "final_df.head(3)"
      ],
      "metadata": {
        "id": "56T_XJ70zHOV"
      },
      "execution_count": null,
      "outputs": []
    },
    {
      "cell_type": "code",
      "source": [
        "from sklearn.preprocessing import OneHotEncoder\n",
        "ohe = OneHotEncoder()"
      ],
      "metadata": {
        "id": "UAxSySmAzLgR"
      },
      "execution_count": null,
      "outputs": []
    },
    {
      "cell_type": "code",
      "source": [
        "pd.get_dummies(final_df,columns=[\"Airline\", \"Source\", \"Destination\", \"Additional_Info\"] ,drop_first = True)"
      ],
      "metadata": {
        "id": "oszTC0Ow2BK9"
      },
      "execution_count": null,
      "outputs": []
    },
    {
      "cell_type": "code",
      "source": [
        "final_df.head()"
      ],
      "metadata": {
        "id": "rEKDgn8Z25ur"
      },
      "execution_count": null,
      "outputs": []
    },
    {
      "cell_type": "code",
      "source": [
        ""
      ],
      "metadata": {
        "id": "6XJ-fUDh27o-"
      },
      "execution_count": null,
      "outputs": []
    }
  ]
}