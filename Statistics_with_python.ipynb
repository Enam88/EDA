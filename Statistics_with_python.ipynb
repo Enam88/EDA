{
  "nbformat": 4,
  "nbformat_minor": 0,
  "metadata": {
    "colab": {
      "name": "Statistics with python.ipynb",
      "provenance": [],
      "authorship_tag": "ABX9TyMKZ3x8aVKNZy4fQEsuGoOo"
    },
    "kernelspec": {
      "name": "python3",
      "display_name": "Python 3"
    },
    "language_info": {
      "name": "python"
    },
    "widgets": {
      "application/vnd.jupyter.widget-state+json": {
        "5200d859e5374c09b4fe8589d28cb90c": {
          "model_module": "@jupyter-widgets/controls",
          "model_name": "VBoxModel",
          "model_module_version": "1.5.0",
          "state": {
            "_view_name": "VBoxView",
            "_dom_classes": [
              "widget-interact"
            ],
            "_model_name": "VBoxModel",
            "_view_module": "@jupyter-widgets/controls",
            "_model_module_version": "1.5.0",
            "_view_count": null,
            "_view_module_version": "1.5.0",
            "box_style": "",
            "layout": "IPY_MODEL_65a8447e8cc34f0e82fa74eab1dd024b",
            "_model_module": "@jupyter-widgets/controls",
            "children": [
              "IPY_MODEL_afd2143998a24488a428cc10a516c37e",
              "IPY_MODEL_ca4bd07fbad047f7bb334c568318552c"
            ]
          }
        },
        "65a8447e8cc34f0e82fa74eab1dd024b": {
          "model_module": "@jupyter-widgets/base",
          "model_name": "LayoutModel",
          "model_module_version": "1.2.0",
          "state": {
            "_view_name": "LayoutView",
            "grid_template_rows": null,
            "right": null,
            "justify_content": null,
            "_view_module": "@jupyter-widgets/base",
            "overflow": null,
            "_model_module_version": "1.2.0",
            "_view_count": null,
            "flex_flow": null,
            "width": null,
            "min_width": null,
            "border": null,
            "align_items": null,
            "bottom": null,
            "_model_module": "@jupyter-widgets/base",
            "top": null,
            "grid_column": null,
            "overflow_y": null,
            "overflow_x": null,
            "grid_auto_flow": null,
            "grid_area": null,
            "grid_template_columns": null,
            "flex": null,
            "_model_name": "LayoutModel",
            "justify_items": null,
            "grid_row": null,
            "max_height": null,
            "align_content": null,
            "visibility": null,
            "align_self": null,
            "height": null,
            "min_height": null,
            "padding": null,
            "grid_auto_rows": null,
            "grid_gap": null,
            "max_width": null,
            "order": null,
            "_view_module_version": "1.2.0",
            "grid_template_areas": null,
            "object_position": null,
            "object_fit": null,
            "grid_auto_columns": null,
            "margin": null,
            "display": null,
            "left": null
          }
        },
        "afd2143998a24488a428cc10a516c37e": {
          "model_module": "@jupyter-widgets/controls",
          "model_name": "IntSliderModel",
          "model_module_version": "1.5.0",
          "state": {
            "_view_name": "IntSliderView",
            "style": "IPY_MODEL_cc2ac1fc1ce44a82908320d424228c55",
            "_dom_classes": [],
            "description": "neighbors",
            "step": 2,
            "_model_name": "IntSliderModel",
            "orientation": "horizontal",
            "max": 36,
            "_view_module": "@jupyter-widgets/controls",
            "_model_module_version": "1.5.0",
            "value": 1,
            "_view_count": null,
            "disabled": false,
            "_view_module_version": "1.5.0",
            "min": 1,
            "continuous_update": true,
            "readout_format": "d",
            "description_tooltip": null,
            "readout": true,
            "_model_module": "@jupyter-widgets/controls",
            "layout": "IPY_MODEL_d9bd4772a0a84f288f38a5549a27e5e1"
          }
        },
        "ca4bd07fbad047f7bb334c568318552c": {
          "model_module": "@jupyter-widgets/output",
          "model_name": "OutputModel",
          "model_module_version": "1.0.0",
          "state": {
            "_view_name": "OutputView",
            "msg_id": "",
            "_dom_classes": [],
            "_model_name": "OutputModel",
            "outputs": [
              {
                "output_type": "display_data",
                "data": {
                  "image/png": "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\n",
                  "text/plain": "<Figure size 432x288 with 1 Axes>"
                },
                "metadata": {
                  "needs_background": "light"
                }
              }
            ],
            "_view_module": "@jupyter-widgets/output",
            "_model_module_version": "1.0.0",
            "_view_count": null,
            "_view_module_version": "1.0.0",
            "layout": "IPY_MODEL_b1ff79dac125451bbd38ee4d6646daec",
            "_model_module": "@jupyter-widgets/output"
          }
        },
        "cc2ac1fc1ce44a82908320d424228c55": {
          "model_module": "@jupyter-widgets/controls",
          "model_name": "SliderStyleModel",
          "model_module_version": "1.5.0",
          "state": {
            "_view_name": "StyleView",
            "handle_color": null,
            "_model_name": "SliderStyleModel",
            "description_width": "",
            "_view_module": "@jupyter-widgets/base",
            "_model_module_version": "1.5.0",
            "_view_count": null,
            "_view_module_version": "1.2.0",
            "_model_module": "@jupyter-widgets/controls"
          }
        },
        "d9bd4772a0a84f288f38a5549a27e5e1": {
          "model_module": "@jupyter-widgets/base",
          "model_name": "LayoutModel",
          "model_module_version": "1.2.0",
          "state": {
            "_view_name": "LayoutView",
            "grid_template_rows": null,
            "right": null,
            "justify_content": null,
            "_view_module": "@jupyter-widgets/base",
            "overflow": null,
            "_model_module_version": "1.2.0",
            "_view_count": null,
            "flex_flow": null,
            "width": null,
            "min_width": null,
            "border": null,
            "align_items": null,
            "bottom": null,
            "_model_module": "@jupyter-widgets/base",
            "top": null,
            "grid_column": null,
            "overflow_y": null,
            "overflow_x": null,
            "grid_auto_flow": null,
            "grid_area": null,
            "grid_template_columns": null,
            "flex": null,
            "_model_name": "LayoutModel",
            "justify_items": null,
            "grid_row": null,
            "max_height": null,
            "align_content": null,
            "visibility": null,
            "align_self": null,
            "height": null,
            "min_height": null,
            "padding": null,
            "grid_auto_rows": null,
            "grid_gap": null,
            "max_width": null,
            "order": null,
            "_view_module_version": "1.2.0",
            "grid_template_areas": null,
            "object_position": null,
            "object_fit": null,
            "grid_auto_columns": null,
            "margin": null,
            "display": null,
            "left": null
          }
        },
        "b1ff79dac125451bbd38ee4d6646daec": {
          "model_module": "@jupyter-widgets/base",
          "model_name": "LayoutModel",
          "model_module_version": "1.2.0",
          "state": {
            "_view_name": "LayoutView",
            "grid_template_rows": null,
            "right": null,
            "justify_content": null,
            "_view_module": "@jupyter-widgets/base",
            "overflow": null,
            "_model_module_version": "1.2.0",
            "_view_count": null,
            "flex_flow": null,
            "width": null,
            "min_width": null,
            "border": null,
            "align_items": null,
            "bottom": null,
            "_model_module": "@jupyter-widgets/base",
            "top": null,
            "grid_column": null,
            "overflow_y": null,
            "overflow_x": null,
            "grid_auto_flow": null,
            "grid_area": null,
            "grid_template_columns": null,
            "flex": null,
            "_model_name": "LayoutModel",
            "justify_items": null,
            "grid_row": null,
            "max_height": null,
            "align_content": null,
            "visibility": null,
            "align_self": null,
            "height": null,
            "min_height": null,
            "padding": null,
            "grid_auto_rows": null,
            "grid_gap": null,
            "max_width": null,
            "order": null,
            "_view_module_version": "1.2.0",
            "grid_template_areas": null,
            "object_position": null,
            "object_fit": null,
            "grid_auto_columns": null,
            "margin": null,
            "display": null,
            "left": null
          }
        }
      }
    }
  },
  "cells": [
    {
      "cell_type": "markdown",
      "source": [
        "**#Distributions**\n",
        "* Normal Distribution / Gaussian Distribution\n",
        "* Standard Normal Distribution\n",
        "* Z Score\n",
        "* Log Normal Distribution\n",
        "* Bernullis Distribution\n",
        "* Binomail Distribution "
      ],
      "metadata": {
        "id": "IvIU0HqQ2b0M"
      }
    },
    {
      "cell_type": "code",
      "execution_count": 15,
      "metadata": {
        "id": "zsO3KTfq2P6V"
      },
      "outputs": [],
      "source": [
        "import seaborn as sns\n",
        "import numpy as np\n",
        "import matplotlib.pyplot as plt\n",
        "%matplotlib inline"
      ]
    },
    {
      "cell_type": "code",
      "source": [
        "import numpy as np"
      ],
      "metadata": {
        "id": "5HnQRdvbWsGd"
      },
      "execution_count": null,
      "outputs": []
    },
    {
      "cell_type": "code",
      "source": [
        "import statistics"
      ],
      "metadata": {
        "id": "EVOFi6NyWaA3"
      },
      "execution_count": null,
      "outputs": []
    },
    {
      "cell_type": "code",
      "source": [
        "#mean, median, mode\n",
        "df = sns.load_dataset('tips')"
      ],
      "metadata": {
        "id": "wGtjh3l_WdUK"
      },
      "execution_count": null,
      "outputs": []
    },
    {
      "cell_type": "code",
      "source": [
        "df.head()"
      ],
      "metadata": {
        "colab": {
          "base_uri": "https://localhost:8080/",
          "height": 206
        },
        "id": "YJtOoxvaWmH8",
        "outputId": "4d9f448b-39c5-4400-dd08-e957f392c558"
      },
      "execution_count": null,
      "outputs": [
        {
          "output_type": "execute_result",
          "data": {
            "text/html": [
              "\n",
              "  <div id=\"df-5898b954-0eca-4b92-afe1-82bbde03e2e1\">\n",
              "    <div class=\"colab-df-container\">\n",
              "      <div>\n",
              "<style scoped>\n",
              "    .dataframe tbody tr th:only-of-type {\n",
              "        vertical-align: middle;\n",
              "    }\n",
              "\n",
              "    .dataframe tbody tr th {\n",
              "        vertical-align: top;\n",
              "    }\n",
              "\n",
              "    .dataframe thead th {\n",
              "        text-align: right;\n",
              "    }\n",
              "</style>\n",
              "<table border=\"1\" class=\"dataframe\">\n",
              "  <thead>\n",
              "    <tr style=\"text-align: right;\">\n",
              "      <th></th>\n",
              "      <th>total_bill</th>\n",
              "      <th>tip</th>\n",
              "      <th>sex</th>\n",
              "      <th>smoker</th>\n",
              "      <th>day</th>\n",
              "      <th>time</th>\n",
              "      <th>size</th>\n",
              "    </tr>\n",
              "  </thead>\n",
              "  <tbody>\n",
              "    <tr>\n",
              "      <th>0</th>\n",
              "      <td>16.99</td>\n",
              "      <td>1.01</td>\n",
              "      <td>Female</td>\n",
              "      <td>No</td>\n",
              "      <td>Sun</td>\n",
              "      <td>Dinner</td>\n",
              "      <td>2</td>\n",
              "    </tr>\n",
              "    <tr>\n",
              "      <th>1</th>\n",
              "      <td>10.34</td>\n",
              "      <td>1.66</td>\n",
              "      <td>Male</td>\n",
              "      <td>No</td>\n",
              "      <td>Sun</td>\n",
              "      <td>Dinner</td>\n",
              "      <td>3</td>\n",
              "    </tr>\n",
              "    <tr>\n",
              "      <th>2</th>\n",
              "      <td>21.01</td>\n",
              "      <td>3.50</td>\n",
              "      <td>Male</td>\n",
              "      <td>No</td>\n",
              "      <td>Sun</td>\n",
              "      <td>Dinner</td>\n",
              "      <td>3</td>\n",
              "    </tr>\n",
              "    <tr>\n",
              "      <th>3</th>\n",
              "      <td>23.68</td>\n",
              "      <td>3.31</td>\n",
              "      <td>Male</td>\n",
              "      <td>No</td>\n",
              "      <td>Sun</td>\n",
              "      <td>Dinner</td>\n",
              "      <td>2</td>\n",
              "    </tr>\n",
              "    <tr>\n",
              "      <th>4</th>\n",
              "      <td>24.59</td>\n",
              "      <td>3.61</td>\n",
              "      <td>Female</td>\n",
              "      <td>No</td>\n",
              "      <td>Sun</td>\n",
              "      <td>Dinner</td>\n",
              "      <td>4</td>\n",
              "    </tr>\n",
              "  </tbody>\n",
              "</table>\n",
              "</div>\n",
              "      <button class=\"colab-df-convert\" onclick=\"convertToInteractive('df-5898b954-0eca-4b92-afe1-82bbde03e2e1')\"\n",
              "              title=\"Convert this dataframe to an interactive table.\"\n",
              "              style=\"display:none;\">\n",
              "        \n",
              "  <svg xmlns=\"http://www.w3.org/2000/svg\" height=\"24px\"viewBox=\"0 0 24 24\"\n",
              "       width=\"24px\">\n",
              "    <path d=\"M0 0h24v24H0V0z\" fill=\"none\"/>\n",
              "    <path d=\"M18.56 5.44l.94 2.06.94-2.06 2.06-.94-2.06-.94-.94-2.06-.94 2.06-2.06.94zm-11 1L8.5 8.5l.94-2.06 2.06-.94-2.06-.94L8.5 2.5l-.94 2.06-2.06.94zm10 10l.94 2.06.94-2.06 2.06-.94-2.06-.94-.94-2.06-.94 2.06-2.06.94z\"/><path d=\"M17.41 7.96l-1.37-1.37c-.4-.4-.92-.59-1.43-.59-.52 0-1.04.2-1.43.59L10.3 9.45l-7.72 7.72c-.78.78-.78 2.05 0 2.83L4 21.41c.39.39.9.59 1.41.59.51 0 1.02-.2 1.41-.59l7.78-7.78 2.81-2.81c.8-.78.8-2.07 0-2.86zM5.41 20L4 18.59l7.72-7.72 1.47 1.35L5.41 20z\"/>\n",
              "  </svg>\n",
              "      </button>\n",
              "      \n",
              "  <style>\n",
              "    .colab-df-container {\n",
              "      display:flex;\n",
              "      flex-wrap:wrap;\n",
              "      gap: 12px;\n",
              "    }\n",
              "\n",
              "    .colab-df-convert {\n",
              "      background-color: #E8F0FE;\n",
              "      border: none;\n",
              "      border-radius: 50%;\n",
              "      cursor: pointer;\n",
              "      display: none;\n",
              "      fill: #1967D2;\n",
              "      height: 32px;\n",
              "      padding: 0 0 0 0;\n",
              "      width: 32px;\n",
              "    }\n",
              "\n",
              "    .colab-df-convert:hover {\n",
              "      background-color: #E2EBFA;\n",
              "      box-shadow: 0px 1px 2px rgba(60, 64, 67, 0.3), 0px 1px 3px 1px rgba(60, 64, 67, 0.15);\n",
              "      fill: #174EA6;\n",
              "    }\n",
              "\n",
              "    [theme=dark] .colab-df-convert {\n",
              "      background-color: #3B4455;\n",
              "      fill: #D2E3FC;\n",
              "    }\n",
              "\n",
              "    [theme=dark] .colab-df-convert:hover {\n",
              "      background-color: #434B5C;\n",
              "      box-shadow: 0px 1px 3px 1px rgba(0, 0, 0, 0.15);\n",
              "      filter: drop-shadow(0px 1px 2px rgba(0, 0, 0, 0.3));\n",
              "      fill: #FFFFFF;\n",
              "    }\n",
              "  </style>\n",
              "\n",
              "      <script>\n",
              "        const buttonEl =\n",
              "          document.querySelector('#df-5898b954-0eca-4b92-afe1-82bbde03e2e1 button.colab-df-convert');\n",
              "        buttonEl.style.display =\n",
              "          google.colab.kernel.accessAllowed ? 'block' : 'none';\n",
              "\n",
              "        async function convertToInteractive(key) {\n",
              "          const element = document.querySelector('#df-5898b954-0eca-4b92-afe1-82bbde03e2e1');\n",
              "          const dataTable =\n",
              "            await google.colab.kernel.invokeFunction('convertToInteractive',\n",
              "                                                     [key], {});\n",
              "          if (!dataTable) return;\n",
              "\n",
              "          const docLinkHtml = 'Like what you see? Visit the ' +\n",
              "            '<a target=\"_blank\" href=https://colab.research.google.com/notebooks/data_table.ipynb>data table notebook</a>'\n",
              "            + ' to learn more about interactive tables.';\n",
              "          element.innerHTML = '';\n",
              "          dataTable['output_type'] = 'display_data';\n",
              "          await google.colab.output.renderOutput(dataTable, element);\n",
              "          const docLink = document.createElement('div');\n",
              "          docLink.innerHTML = docLinkHtml;\n",
              "          element.appendChild(docLink);\n",
              "        }\n",
              "      </script>\n",
              "    </div>\n",
              "  </div>\n",
              "  "
            ],
            "text/plain": [
              "   total_bill   tip     sex smoker  day    time  size\n",
              "0       16.99  1.01  Female     No  Sun  Dinner     2\n",
              "1       10.34  1.66    Male     No  Sun  Dinner     3\n",
              "2       21.01  3.50    Male     No  Sun  Dinner     3\n",
              "3       23.68  3.31    Male     No  Sun  Dinner     2\n",
              "4       24.59  3.61  Female     No  Sun  Dinner     4"
            ]
          },
          "metadata": {},
          "execution_count": 11
        }
      ]
    },
    {
      "cell_type": "code",
      "source": [
        "np.mean(df[\"total_bill\"])"
      ],
      "metadata": {
        "colab": {
          "base_uri": "https://localhost:8080/"
        },
        "id": "7bOnvJRQWpuM",
        "outputId": "f9aef80e-995f-4458-af7a-855f7817225f"
      },
      "execution_count": null,
      "outputs": [
        {
          "output_type": "execute_result",
          "data": {
            "text/plain": [
              "19.785942622950824"
            ]
          },
          "metadata": {},
          "execution_count": 12
        }
      ]
    },
    {
      "cell_type": "code",
      "source": [
        "import pandas as pd"
      ],
      "metadata": {
        "id": "Ax8Gt4ZR2MFZ"
      },
      "execution_count": null,
      "outputs": []
    },
    {
      "cell_type": "code",
      "source": [
        "df = pd.DataFrame(df)"
      ],
      "metadata": {
        "id": "FwBMuYIRXEXO"
      },
      "execution_count": null,
      "outputs": []
    },
    {
      "cell_type": "code",
      "source": [
        "df.head()"
      ],
      "metadata": {
        "colab": {
          "base_uri": "https://localhost:8080/",
          "height": 206
        },
        "id": "s_XHHNgXXkaL",
        "outputId": "93473a2d-16e3-4ccc-99c7-4b1602600e1c"
      },
      "execution_count": null,
      "outputs": [
        {
          "output_type": "execute_result",
          "data": {
            "text/html": [
              "\n",
              "  <div id=\"df-885bd589-5e4c-4c5e-9b4d-0431a5c16e83\">\n",
              "    <div class=\"colab-df-container\">\n",
              "      <div>\n",
              "<style scoped>\n",
              "    .dataframe tbody tr th:only-of-type {\n",
              "        vertical-align: middle;\n",
              "    }\n",
              "\n",
              "    .dataframe tbody tr th {\n",
              "        vertical-align: top;\n",
              "    }\n",
              "\n",
              "    .dataframe thead th {\n",
              "        text-align: right;\n",
              "    }\n",
              "</style>\n",
              "<table border=\"1\" class=\"dataframe\">\n",
              "  <thead>\n",
              "    <tr style=\"text-align: right;\">\n",
              "      <th></th>\n",
              "      <th>total_bill</th>\n",
              "      <th>tip</th>\n",
              "      <th>sex</th>\n",
              "      <th>smoker</th>\n",
              "      <th>day</th>\n",
              "      <th>time</th>\n",
              "      <th>size</th>\n",
              "    </tr>\n",
              "  </thead>\n",
              "  <tbody>\n",
              "    <tr>\n",
              "      <th>0</th>\n",
              "      <td>16.99</td>\n",
              "      <td>1.01</td>\n",
              "      <td>Female</td>\n",
              "      <td>No</td>\n",
              "      <td>Sun</td>\n",
              "      <td>Dinner</td>\n",
              "      <td>2</td>\n",
              "    </tr>\n",
              "    <tr>\n",
              "      <th>1</th>\n",
              "      <td>10.34</td>\n",
              "      <td>1.66</td>\n",
              "      <td>Male</td>\n",
              "      <td>No</td>\n",
              "      <td>Sun</td>\n",
              "      <td>Dinner</td>\n",
              "      <td>3</td>\n",
              "    </tr>\n",
              "    <tr>\n",
              "      <th>2</th>\n",
              "      <td>21.01</td>\n",
              "      <td>3.50</td>\n",
              "      <td>Male</td>\n",
              "      <td>No</td>\n",
              "      <td>Sun</td>\n",
              "      <td>Dinner</td>\n",
              "      <td>3</td>\n",
              "    </tr>\n",
              "    <tr>\n",
              "      <th>3</th>\n",
              "      <td>23.68</td>\n",
              "      <td>3.31</td>\n",
              "      <td>Male</td>\n",
              "      <td>No</td>\n",
              "      <td>Sun</td>\n",
              "      <td>Dinner</td>\n",
              "      <td>2</td>\n",
              "    </tr>\n",
              "    <tr>\n",
              "      <th>4</th>\n",
              "      <td>24.59</td>\n",
              "      <td>3.61</td>\n",
              "      <td>Female</td>\n",
              "      <td>No</td>\n",
              "      <td>Sun</td>\n",
              "      <td>Dinner</td>\n",
              "      <td>4</td>\n",
              "    </tr>\n",
              "  </tbody>\n",
              "</table>\n",
              "</div>\n",
              "      <button class=\"colab-df-convert\" onclick=\"convertToInteractive('df-885bd589-5e4c-4c5e-9b4d-0431a5c16e83')\"\n",
              "              title=\"Convert this dataframe to an interactive table.\"\n",
              "              style=\"display:none;\">\n",
              "        \n",
              "  <svg xmlns=\"http://www.w3.org/2000/svg\" height=\"24px\"viewBox=\"0 0 24 24\"\n",
              "       width=\"24px\">\n",
              "    <path d=\"M0 0h24v24H0V0z\" fill=\"none\"/>\n",
              "    <path d=\"M18.56 5.44l.94 2.06.94-2.06 2.06-.94-2.06-.94-.94-2.06-.94 2.06-2.06.94zm-11 1L8.5 8.5l.94-2.06 2.06-.94-2.06-.94L8.5 2.5l-.94 2.06-2.06.94zm10 10l.94 2.06.94-2.06 2.06-.94-2.06-.94-.94-2.06-.94 2.06-2.06.94z\"/><path d=\"M17.41 7.96l-1.37-1.37c-.4-.4-.92-.59-1.43-.59-.52 0-1.04.2-1.43.59L10.3 9.45l-7.72 7.72c-.78.78-.78 2.05 0 2.83L4 21.41c.39.39.9.59 1.41.59.51 0 1.02-.2 1.41-.59l7.78-7.78 2.81-2.81c.8-.78.8-2.07 0-2.86zM5.41 20L4 18.59l7.72-7.72 1.47 1.35L5.41 20z\"/>\n",
              "  </svg>\n",
              "      </button>\n",
              "      \n",
              "  <style>\n",
              "    .colab-df-container {\n",
              "      display:flex;\n",
              "      flex-wrap:wrap;\n",
              "      gap: 12px;\n",
              "    }\n",
              "\n",
              "    .colab-df-convert {\n",
              "      background-color: #E8F0FE;\n",
              "      border: none;\n",
              "      border-radius: 50%;\n",
              "      cursor: pointer;\n",
              "      display: none;\n",
              "      fill: #1967D2;\n",
              "      height: 32px;\n",
              "      padding: 0 0 0 0;\n",
              "      width: 32px;\n",
              "    }\n",
              "\n",
              "    .colab-df-convert:hover {\n",
              "      background-color: #E2EBFA;\n",
              "      box-shadow: 0px 1px 2px rgba(60, 64, 67, 0.3), 0px 1px 3px 1px rgba(60, 64, 67, 0.15);\n",
              "      fill: #174EA6;\n",
              "    }\n",
              "\n",
              "    [theme=dark] .colab-df-convert {\n",
              "      background-color: #3B4455;\n",
              "      fill: #D2E3FC;\n",
              "    }\n",
              "\n",
              "    [theme=dark] .colab-df-convert:hover {\n",
              "      background-color: #434B5C;\n",
              "      box-shadow: 0px 1px 3px 1px rgba(0, 0, 0, 0.15);\n",
              "      filter: drop-shadow(0px 1px 2px rgba(0, 0, 0, 0.3));\n",
              "      fill: #FFFFFF;\n",
              "    }\n",
              "  </style>\n",
              "\n",
              "      <script>\n",
              "        const buttonEl =\n",
              "          document.querySelector('#df-885bd589-5e4c-4c5e-9b4d-0431a5c16e83 button.colab-df-convert');\n",
              "        buttonEl.style.display =\n",
              "          google.colab.kernel.accessAllowed ? 'block' : 'none';\n",
              "\n",
              "        async function convertToInteractive(key) {\n",
              "          const element = document.querySelector('#df-885bd589-5e4c-4c5e-9b4d-0431a5c16e83');\n",
              "          const dataTable =\n",
              "            await google.colab.kernel.invokeFunction('convertToInteractive',\n",
              "                                                     [key], {});\n",
              "          if (!dataTable) return;\n",
              "\n",
              "          const docLinkHtml = 'Like what you see? Visit the ' +\n",
              "            '<a target=\"_blank\" href=https://colab.research.google.com/notebooks/data_table.ipynb>data table notebook</a>'\n",
              "            + ' to learn more about interactive tables.';\n",
              "          element.innerHTML = '';\n",
              "          dataTable['output_type'] = 'display_data';\n",
              "          await google.colab.output.renderOutput(dataTable, element);\n",
              "          const docLink = document.createElement('div');\n",
              "          docLink.innerHTML = docLinkHtml;\n",
              "          element.appendChild(docLink);\n",
              "        }\n",
              "      </script>\n",
              "    </div>\n",
              "  </div>\n",
              "  "
            ],
            "text/plain": [
              "   total_bill   tip     sex smoker  day    time  size\n",
              "0       16.99  1.01  Female     No  Sun  Dinner     2\n",
              "1       10.34  1.66    Male     No  Sun  Dinner     3\n",
              "2       21.01  3.50    Male     No  Sun  Dinner     3\n",
              "3       23.68  3.31    Male     No  Sun  Dinner     2\n",
              "4       24.59  3.61  Female     No  Sun  Dinner     4"
            ]
          },
          "metadata": {},
          "execution_count": 16
        }
      ]
    },
    {
      "cell_type": "code",
      "source": [
        "df.groupby('sex')['time'].value_counts()"
      ],
      "metadata": {
        "colab": {
          "base_uri": "https://localhost:8080/"
        },
        "id": "k5Q75NiXW1cL",
        "outputId": "7bd9db21-2b60-41e9-f2c4-16d98fec6542"
      },
      "execution_count": null,
      "outputs": [
        {
          "output_type": "execute_result",
          "data": {
            "text/plain": [
              "sex           \n",
              "Male    Dinner    124\n",
              "        Lunch      33\n",
              "Female  Dinner     52\n",
              "        Lunch      35\n",
              "Name: time, dtype: int64"
            ]
          },
          "metadata": {},
          "execution_count": 17
        }
      ]
    },
    {
      "cell_type": "code",
      "source": [
        "df.corr()"
      ],
      "metadata": {
        "colab": {
          "base_uri": "https://localhost:8080/",
          "height": 143
        },
        "id": "rrHDdI5UX1t3",
        "outputId": "fa4630c0-b25a-4f59-a4df-ef482a53549a"
      },
      "execution_count": null,
      "outputs": [
        {
          "output_type": "execute_result",
          "data": {
            "text/html": [
              "\n",
              "  <div id=\"df-3b1645ad-ca58-408f-ba29-3eea4aa2c2d9\">\n",
              "    <div class=\"colab-df-container\">\n",
              "      <div>\n",
              "<style scoped>\n",
              "    .dataframe tbody tr th:only-of-type {\n",
              "        vertical-align: middle;\n",
              "    }\n",
              "\n",
              "    .dataframe tbody tr th {\n",
              "        vertical-align: top;\n",
              "    }\n",
              "\n",
              "    .dataframe thead th {\n",
              "        text-align: right;\n",
              "    }\n",
              "</style>\n",
              "<table border=\"1\" class=\"dataframe\">\n",
              "  <thead>\n",
              "    <tr style=\"text-align: right;\">\n",
              "      <th></th>\n",
              "      <th>total_bill</th>\n",
              "      <th>tip</th>\n",
              "      <th>size</th>\n",
              "    </tr>\n",
              "  </thead>\n",
              "  <tbody>\n",
              "    <tr>\n",
              "      <th>total_bill</th>\n",
              "      <td>1.000000</td>\n",
              "      <td>0.675734</td>\n",
              "      <td>0.598315</td>\n",
              "    </tr>\n",
              "    <tr>\n",
              "      <th>tip</th>\n",
              "      <td>0.675734</td>\n",
              "      <td>1.000000</td>\n",
              "      <td>0.489299</td>\n",
              "    </tr>\n",
              "    <tr>\n",
              "      <th>size</th>\n",
              "      <td>0.598315</td>\n",
              "      <td>0.489299</td>\n",
              "      <td>1.000000</td>\n",
              "    </tr>\n",
              "  </tbody>\n",
              "</table>\n",
              "</div>\n",
              "      <button class=\"colab-df-convert\" onclick=\"convertToInteractive('df-3b1645ad-ca58-408f-ba29-3eea4aa2c2d9')\"\n",
              "              title=\"Convert this dataframe to an interactive table.\"\n",
              "              style=\"display:none;\">\n",
              "        \n",
              "  <svg xmlns=\"http://www.w3.org/2000/svg\" height=\"24px\"viewBox=\"0 0 24 24\"\n",
              "       width=\"24px\">\n",
              "    <path d=\"M0 0h24v24H0V0z\" fill=\"none\"/>\n",
              "    <path d=\"M18.56 5.44l.94 2.06.94-2.06 2.06-.94-2.06-.94-.94-2.06-.94 2.06-2.06.94zm-11 1L8.5 8.5l.94-2.06 2.06-.94-2.06-.94L8.5 2.5l-.94 2.06-2.06.94zm10 10l.94 2.06.94-2.06 2.06-.94-2.06-.94-.94-2.06-.94 2.06-2.06.94z\"/><path d=\"M17.41 7.96l-1.37-1.37c-.4-.4-.92-.59-1.43-.59-.52 0-1.04.2-1.43.59L10.3 9.45l-7.72 7.72c-.78.78-.78 2.05 0 2.83L4 21.41c.39.39.9.59 1.41.59.51 0 1.02-.2 1.41-.59l7.78-7.78 2.81-2.81c.8-.78.8-2.07 0-2.86zM5.41 20L4 18.59l7.72-7.72 1.47 1.35L5.41 20z\"/>\n",
              "  </svg>\n",
              "      </button>\n",
              "      \n",
              "  <style>\n",
              "    .colab-df-container {\n",
              "      display:flex;\n",
              "      flex-wrap:wrap;\n",
              "      gap: 12px;\n",
              "    }\n",
              "\n",
              "    .colab-df-convert {\n",
              "      background-color: #E8F0FE;\n",
              "      border: none;\n",
              "      border-radius: 50%;\n",
              "      cursor: pointer;\n",
              "      display: none;\n",
              "      fill: #1967D2;\n",
              "      height: 32px;\n",
              "      padding: 0 0 0 0;\n",
              "      width: 32px;\n",
              "    }\n",
              "\n",
              "    .colab-df-convert:hover {\n",
              "      background-color: #E2EBFA;\n",
              "      box-shadow: 0px 1px 2px rgba(60, 64, 67, 0.3), 0px 1px 3px 1px rgba(60, 64, 67, 0.15);\n",
              "      fill: #174EA6;\n",
              "    }\n",
              "\n",
              "    [theme=dark] .colab-df-convert {\n",
              "      background-color: #3B4455;\n",
              "      fill: #D2E3FC;\n",
              "    }\n",
              "\n",
              "    [theme=dark] .colab-df-convert:hover {\n",
              "      background-color: #434B5C;\n",
              "      box-shadow: 0px 1px 3px 1px rgba(0, 0, 0, 0.15);\n",
              "      filter: drop-shadow(0px 1px 2px rgba(0, 0, 0, 0.3));\n",
              "      fill: #FFFFFF;\n",
              "    }\n",
              "  </style>\n",
              "\n",
              "      <script>\n",
              "        const buttonEl =\n",
              "          document.querySelector('#df-3b1645ad-ca58-408f-ba29-3eea4aa2c2d9 button.colab-df-convert');\n",
              "        buttonEl.style.display =\n",
              "          google.colab.kernel.accessAllowed ? 'block' : 'none';\n",
              "\n",
              "        async function convertToInteractive(key) {\n",
              "          const element = document.querySelector('#df-3b1645ad-ca58-408f-ba29-3eea4aa2c2d9');\n",
              "          const dataTable =\n",
              "            await google.colab.kernel.invokeFunction('convertToInteractive',\n",
              "                                                     [key], {});\n",
              "          if (!dataTable) return;\n",
              "\n",
              "          const docLinkHtml = 'Like what you see? Visit the ' +\n",
              "            '<a target=\"_blank\" href=https://colab.research.google.com/notebooks/data_table.ipynb>data table notebook</a>'\n",
              "            + ' to learn more about interactive tables.';\n",
              "          element.innerHTML = '';\n",
              "          dataTable['output_type'] = 'display_data';\n",
              "          await google.colab.output.renderOutput(dataTable, element);\n",
              "          const docLink = document.createElement('div');\n",
              "          docLink.innerHTML = docLinkHtml;\n",
              "          element.appendChild(docLink);\n",
              "        }\n",
              "      </script>\n",
              "    </div>\n",
              "  </div>\n",
              "  "
            ],
            "text/plain": [
              "            total_bill       tip      size\n",
              "total_bill    1.000000  0.675734  0.598315\n",
              "tip           0.675734  1.000000  0.489299\n",
              "size          0.598315  0.489299  1.000000"
            ]
          },
          "metadata": {},
          "execution_count": 18
        }
      ]
    },
    {
      "cell_type": "code",
      "source": [
        "np.median(df['total_bill'])"
      ],
      "metadata": {
        "colab": {
          "base_uri": "https://localhost:8080/"
        },
        "id": "COhMifh_YN7W",
        "outputId": "f29269c7-1054-4a4b-c1cf-bb496f0d639e"
      },
      "execution_count": null,
      "outputs": [
        {
          "output_type": "execute_result",
          "data": {
            "text/plain": [
              "17.795"
            ]
          },
          "metadata": {},
          "execution_count": 19
        }
      ]
    },
    {
      "cell_type": "code",
      "source": [
        "statistics.mode(df['total_bill'])"
      ],
      "metadata": {
        "colab": {
          "base_uri": "https://localhost:8080/"
        },
        "id": "uxFACl3OYYJt",
        "outputId": "1fec82e8-5e1d-46bf-d77d-48a6d807ff36"
      },
      "execution_count": null,
      "outputs": [
        {
          "output_type": "execute_result",
          "data": {
            "text/plain": [
              "13.42"
            ]
          },
          "metadata": {},
          "execution_count": 20
        }
      ]
    },
    {
      "cell_type": "code",
      "source": [
        "sns.boxplot(df['total_bill'])"
      ],
      "metadata": {
        "colab": {
          "base_uri": "https://localhost:8080/",
          "height": 356
        },
        "id": "aQofqj1UYdZx",
        "outputId": "4817f9cd-bbbc-4c9d-b4a4-2a5d000e8a89"
      },
      "execution_count": null,
      "outputs": [
        {
          "output_type": "stream",
          "name": "stderr",
          "text": [
            "/usr/local/lib/python3.7/dist-packages/seaborn/_decorators.py:43: FutureWarning: Pass the following variable as a keyword arg: x. From version 0.12, the only valid positional argument will be `data`, and passing other arguments without an explicit keyword will result in an error or misinterpretation.\n",
            "  FutureWarning\n"
          ]
        },
        {
          "output_type": "execute_result",
          "data": {
            "text/plain": [
              "<matplotlib.axes._subplots.AxesSubplot at 0x7f8cc076d590>"
            ]
          },
          "metadata": {},
          "execution_count": 21
        },
        {
          "output_type": "display_data",
          "data": {
            "image/png": "[encoded data removed]",
            "text/plain": [
              "<Figure size 432x288 with 1 Axes>"
            ]
          },
          "metadata": {
            "needs_background": "light"
          }
        }
      ]
    },
    {
      "cell_type": "code",
      "source": [
        "sns.histplot(df['total_bill'], kde=True)"
      ],
      "metadata": {
        "colab": {
          "base_uri": "https://localhost:8080/",
          "height": 302
        },
        "id": "28C37uE9Yltx",
        "outputId": "6cd7ba43-3555-44dc-cc00-a13ad3ce12b8"
      },
      "execution_count": null,
      "outputs": [
        {
          "output_type": "execute_result",
          "data": {
            "text/plain": [
              "<matplotlib.axes._subplots.AxesSubplot at 0x7f8cc06a3410>"
            ]
          },
          "metadata": {},
          "execution_count": 22
        },
        {
          "output_type": "display_data",
          "data": {
            "image/png": "[encoded data removed]",
            "text/plain": [
              "<Figure size 432x288 with 1 Axes>"
            ]
          },
          "metadata": {
            "needs_background": "light"
          }
        }
      ]
    },
    {
      "cell_type": "code",
      "source": [
        "df1 = sns.load_dataset('iris')"
      ],
      "metadata": {
        "id": "q2U7YfP4Yz3P"
      },
      "execution_count": null,
      "outputs": []
    },
    {
      "cell_type": "code",
      "source": [
        "df1.head()"
      ],
      "metadata": {
        "colab": {
          "base_uri": "https://localhost:8080/",
          "height": 206
        },
        "id": "bwAmxwLSZGMx",
        "outputId": "b8b57624-0886-4495-8f0e-26dfff794ead"
      },
      "execution_count": null,
      "outputs": [
        {
          "output_type": "execute_result",
          "data": {
            "text/html": [
              "\n",
              "  <div id=\"df-cd1dcc18-8af3-48f1-a9a5-31efb7d50f2c\">\n",
              "    <div class=\"colab-df-container\">\n",
              "      <div>\n",
              "<style scoped>\n",
              "    .dataframe tbody tr th:only-of-type {\n",
              "        vertical-align: middle;\n",
              "    }\n",
              "\n",
              "    .dataframe tbody tr th {\n",
              "        vertical-align: top;\n",
              "    }\n",
              "\n",
              "    .dataframe thead th {\n",
              "        text-align: right;\n",
              "    }\n",
              "</style>\n",
              "<table border=\"1\" class=\"dataframe\">\n",
              "  <thead>\n",
              "    <tr style=\"text-align: right;\">\n",
              "      <th></th>\n",
              "      <th>sepal_length</th>\n",
              "      <th>sepal_width</th>\n",
              "      <th>petal_length</th>\n",
              "      <th>petal_width</th>\n",
              "      <th>species</th>\n",
              "    </tr>\n",
              "  </thead>\n",
              "  <tbody>\n",
              "    <tr>\n",
              "      <th>0</th>\n",
              "      <td>5.1</td>\n",
              "      <td>3.5</td>\n",
              "      <td>1.4</td>\n",
              "      <td>0.2</td>\n",
              "      <td>setosa</td>\n",
              "    </tr>\n",
              "    <tr>\n",
              "      <th>1</th>\n",
              "      <td>4.9</td>\n",
              "      <td>3.0</td>\n",
              "      <td>1.4</td>\n",
              "      <td>0.2</td>\n",
              "      <td>setosa</td>\n",
              "    </tr>\n",
              "    <tr>\n",
              "      <th>2</th>\n",
              "      <td>4.7</td>\n",
              "      <td>3.2</td>\n",
              "      <td>1.3</td>\n",
              "      <td>0.2</td>\n",
              "      <td>setosa</td>\n",
              "    </tr>\n",
              "    <tr>\n",
              "      <th>3</th>\n",
              "      <td>4.6</td>\n",
              "      <td>3.1</td>\n",
              "      <td>1.5</td>\n",
              "      <td>0.2</td>\n",
              "      <td>setosa</td>\n",
              "    </tr>\n",
              "    <tr>\n",
              "      <th>4</th>\n",
              "      <td>5.0</td>\n",
              "      <td>3.6</td>\n",
              "      <td>1.4</td>\n",
              "      <td>0.2</td>\n",
              "      <td>setosa</td>\n",
              "    </tr>\n",
              "  </tbody>\n",
              "</table>\n",
              "</div>\n",
              "      <button class=\"colab-df-convert\" onclick=\"convertToInteractive('df-cd1dcc18-8af3-48f1-a9a5-31efb7d50f2c')\"\n",
              "              title=\"Convert this dataframe to an interactive table.\"\n",
              "              style=\"display:none;\">\n",
              "        \n",
              "  <svg xmlns=\"http://www.w3.org/2000/svg\" height=\"24px\"viewBox=\"0 0 24 24\"\n",
              "       width=\"24px\">\n",
              "    <path d=\"M0 0h24v24H0V0z\" fill=\"none\"/>\n",
              "    <path d=\"M18.56 5.44l.94 2.06.94-2.06 2.06-.94-2.06-.94-.94-2.06-.94 2.06-2.06.94zm-11 1L8.5 8.5l.94-2.06 2.06-.94-2.06-.94L8.5 2.5l-.94 2.06-2.06.94zm10 10l.94 2.06.94-2.06 2.06-.94-2.06-.94-.94-2.06-.94 2.06-2.06.94z\"/><path d=\"M17.41 7.96l-1.37-1.37c-.4-.4-.92-.59-1.43-.59-.52 0-1.04.2-1.43.59L10.3 9.45l-7.72 7.72c-.78.78-.78 2.05 0 2.83L4 21.41c.39.39.9.59 1.41.59.51 0 1.02-.2 1.41-.59l7.78-7.78 2.81-2.81c.8-.78.8-2.07 0-2.86zM5.41 20L4 18.59l7.72-7.72 1.47 1.35L5.41 20z\"/>\n",
              "  </svg>\n",
              "      </button>\n",
              "      \n",
              "  <style>\n",
              "    .colab-df-container {\n",
              "      display:flex;\n",
              "      flex-wrap:wrap;\n",
              "      gap: 12px;\n",
              "    }\n",
              "\n",
              "    .colab-df-convert {\n",
              "      background-color: #E8F0FE;\n",
              "      border: none;\n",
              "      border-radius: 50%;\n",
              "      cursor: pointer;\n",
              "      display: none;\n",
              "      fill: #1967D2;\n",
              "      height: 32px;\n",
              "      padding: 0 0 0 0;\n",
              "      width: 32px;\n",
              "    }\n",
              "\n",
              "    .colab-df-convert:hover {\n",
              "      background-color: #E2EBFA;\n",
              "      box-shadow: 0px 1px 2px rgba(60, 64, 67, 0.3), 0px 1px 3px 1px rgba(60, 64, 67, 0.15);\n",
              "      fill: #174EA6;\n",
              "    }\n",
              "\n",
              "    [theme=dark] .colab-df-convert {\n",
              "      background-color: #3B4455;\n",
              "      fill: #D2E3FC;\n",
              "    }\n",
              "\n",
              "    [theme=dark] .colab-df-convert:hover {\n",
              "      background-color: #434B5C;\n",
              "      box-shadow: 0px 1px 3px 1px rgba(0, 0, 0, 0.15);\n",
              "      filter: drop-shadow(0px 1px 2px rgba(0, 0, 0, 0.3));\n",
              "      fill: #FFFFFF;\n",
              "    }\n",
              "  </style>\n",
              "\n",
              "      <script>\n",
              "        const buttonEl =\n",
              "          document.querySelector('#df-cd1dcc18-8af3-48f1-a9a5-31efb7d50f2c button.colab-df-convert');\n",
              "        buttonEl.style.display =\n",
              "          google.colab.kernel.accessAllowed ? 'block' : 'none';\n",
              "\n",
              "        async function convertToInteractive(key) {\n",
              "          const element = document.querySelector('#df-cd1dcc18-8af3-48f1-a9a5-31efb7d50f2c');\n",
              "          const dataTable =\n",
              "            await google.colab.kernel.invokeFunction('convertToInteractive',\n",
              "                                                     [key], {});\n",
              "          if (!dataTable) return;\n",
              "\n",
              "          const docLinkHtml = 'Like what you see? Visit the ' +\n",
              "            '<a target=\"_blank\" href=https://colab.research.google.com/notebooks/data_table.ipynb>data table notebook</a>'\n",
              "            + ' to learn more about interactive tables.';\n",
              "          element.innerHTML = '';\n",
              "          dataTable['output_type'] = 'display_data';\n",
              "          await google.colab.output.renderOutput(dataTable, element);\n",
              "          const docLink = document.createElement('div');\n",
              "          docLink.innerHTML = docLinkHtml;\n",
              "          element.appendChild(docLink);\n",
              "        }\n",
              "      </script>\n",
              "    </div>\n",
              "  </div>\n",
              "  "
            ],
            "text/plain": [
              "   sepal_length  sepal_width  petal_length  petal_width species\n",
              "0           5.1          3.5           1.4          0.2  setosa\n",
              "1           4.9          3.0           1.4          0.2  setosa\n",
              "2           4.7          3.2           1.3          0.2  setosa\n",
              "3           4.6          3.1           1.5          0.2  setosa\n",
              "4           5.0          3.6           1.4          0.2  setosa"
            ]
          },
          "metadata": {},
          "execution_count": 24
        }
      ]
    },
    {
      "cell_type": "code",
      "source": [
        "sns.histplot(df1['sepal_length'], kde=True)"
      ],
      "metadata": {
        "colab": {
          "base_uri": "https://localhost:8080/",
          "height": 299
        },
        "id": "hdhgS7C8ZLSg",
        "outputId": "f843f870-6dba-406f-829f-94e03d1ef901"
      },
      "execution_count": null,
      "outputs": [
        {
          "output_type": "execute_result",
          "data": {
            "text/plain": [
              "<matplotlib.axes._subplots.AxesSubplot at 0x7f8cbe154910>"
            ]
          },
          "metadata": {},
          "execution_count": 25
        },
        {
          "output_type": "display_data",
          "data": {
            "image/png": "[encoded data removed]",
            "text/plain": [
              "<Figure size 432x288 with 1 Axes>"
            ]
          },
          "metadata": {
            "needs_background": "light"
          }
        }
      ]
    },
    {
      "cell_type": "code",
      "source": [
        "sns.histplot(df1['sepal_width'], kde=True)"
      ],
      "metadata": {
        "colab": {
          "base_uri": "https://localhost:8080/",
          "height": 299
        },
        "id": "62wrycLMZV6U",
        "outputId": "1adb60b2-555f-4913-b17c-ccc61bf85aae"
      },
      "execution_count": null,
      "outputs": [
        {
          "output_type": "execute_result",
          "data": {
            "text/plain": [
              "<matplotlib.axes._subplots.AxesSubplot at 0x7f8cbe0ef6d0>"
            ]
          },
          "metadata": {},
          "execution_count": 26
        },
        {
          "output_type": "display_data",
          "data": {
            "image/png": "[encoded data removed]",
            "text/plain": [
              "<Figure size 432x288 with 1 Axes>"
            ]
          },
          "metadata": {
            "needs_background": "light"
          }
        }
      ]
    },
    {
      "cell_type": "code",
      "source": [
        "sns.countplot(df1['species'])"
      ],
      "metadata": {
        "colab": {
          "base_uri": "https://localhost:8080/",
          "height": 355
        },
        "id": "Um7KLcF0ZhoC",
        "outputId": "ea83a43e-7a1e-4bcd-8075-9c02af387602"
      },
      "execution_count": null,
      "outputs": [
        {
          "output_type": "stream",
          "name": "stderr",
          "text": [
            "/usr/local/lib/python3.7/dist-packages/seaborn/_decorators.py:43: FutureWarning: Pass the following variable as a keyword arg: x. From version 0.12, the only valid positional argument will be `data`, and passing other arguments without an explicit keyword will result in an error or misinterpretation.\n",
            "  FutureWarning\n"
          ]
        },
        {
          "output_type": "execute_result",
          "data": {
            "text/plain": [
              "<matplotlib.axes._subplots.AxesSubplot at 0x7f8cbe0a31d0>"
            ]
          },
          "metadata": {},
          "execution_count": 27
        },
        {
          "output_type": "display_data",
          "data": {
            "image/png": "[encoded data removed]",
            "text/plain": [
              "<Figure size 432x288 with 1 Axes>"
            ]
          },
          "metadata": {
            "needs_background": "light"
          }
        }
      ]
    },
    {
      "cell_type": "code",
      "source": [
        "np.percentile(df1['sepal_length'],[25,99])"
      ],
      "metadata": {
        "colab": {
          "base_uri": "https://localhost:8080/"
        },
        "id": "JJWKqs3gZxHY",
        "outputId": "23410d0c-a982-41f2-ea8f-0368f04be89d"
      },
      "execution_count": null,
      "outputs": [
        {
          "output_type": "execute_result",
          "data": {
            "text/plain": [
              "array([5.1, 7.7])"
            ]
          },
          "metadata": {},
          "execution_count": 28
        }
      ]
    },
    {
      "cell_type": "code",
      "source": [
        "dataset= [11,10,12,14,12,15,14,13,15,102,12,14,17,19,107, 10,13,12,14,12,108,12,11,14,13,15,10,15,12,10,14,13,15,10]"
      ],
      "metadata": {
        "id": "xaLbdbqEaT0X"
      },
      "execution_count": null,
      "outputs": []
    },
    {
      "cell_type": "code",
      "source": [
        "plt.hist(dataset)"
      ],
      "metadata": {
        "colab": {
          "base_uri": "https://localhost:8080/",
          "height": 339
        },
        "id": "EAsDPdIgUNhv",
        "outputId": "cbf3e8cb-68fb-49b3-b51c-ec487f5d2c10"
      },
      "execution_count": null,
      "outputs": [
        {
          "output_type": "execute_result",
          "data": {
            "text/plain": [
              "(array([31.,  0.,  0.,  0.,  0.,  0.,  0.,  0.,  0.,  3.]),\n",
              " array([ 10. ,  19.8,  29.6,  39.4,  49.2,  59. ,  68.8,  78.6,  88.4,\n",
              "         98.2, 108. ]),\n",
              " <a list of 10 Patch objects>)"
            ]
          },
          "metadata": {},
          "execution_count": 30
        },
        {
          "output_type": "display_data",
          "data": {
            "image/png": "[encoded data removed]",
            "text/plain": [
              "<Figure size 432x288 with 1 Axes>"
            ]
          },
          "metadata": {
            "needs_background": "light"
          }
        }
      ]
    },
    {
      "cell_type": "code",
      "source": [
        "##write function to detect outliers\n",
        "\n",
        "outlier = []\n",
        "def detect_outlier(data):\n",
        "    #define threshold\n",
        "    threshold = 3\n",
        "    mean = np.mean(data)\n",
        "    standard_deviation = np.std(data)\n",
        "\n",
        "    for i in dataset:\n",
        "        Z_score = (i - mean) / standard_deviation\n",
        "        if np.abs(Z_score) > threshold:\n",
        "            outlier.append(i)\n",
        "    return outlier"
      ],
      "metadata": {
        "id": "hnC5Fl5XUQOs"
      },
      "execution_count": null,
      "outputs": []
    },
    {
      "cell_type": "code",
      "source": [
        "detect_outlier(dataset)"
      ],
      "metadata": {
        "colab": {
          "base_uri": "https://localhost:8080/"
        },
        "id": "XeWh27bSVMrl",
        "outputId": "a323cf09-b7ec-4437-c984-038d589a59ad"
      },
      "execution_count": null,
      "outputs": [
        {
          "output_type": "execute_result",
          "data": {
            "text/plain": [
              "[102, 107, 108]"
            ]
          },
          "metadata": {},
          "execution_count": 51
        }
      ]
    },
    {
      "cell_type": "code",
      "source": [
        "##IQR\n",
        "#1. Sort the data\n",
        "#. find Q1 and Q3\n",
        "#  calculate (Q3-Q1)"
      ],
      "metadata": {
        "id": "tsdQvfw9VQHw"
      },
      "execution_count": null,
      "outputs": []
    },
    {
      "cell_type": "code",
      "source": [
        "#sort data\n",
        "sorted_dataset = sorted(dataset)\n",
        "\n",
        "sorted_dataset"
      ],
      "metadata": {
        "colab": {
          "base_uri": "https://localhost:8080/"
        },
        "id": "DRNztYQwXQu4",
        "outputId": "91d72755-d7a7-4697-c27b-256ac5853e25"
      },
      "execution_count": null,
      "outputs": [
        {
          "output_type": "execute_result",
          "data": {
            "text/plain": [
              "[10,\n",
              " 10,\n",
              " 10,\n",
              " 10,\n",
              " 10,\n",
              " 11,\n",
              " 11,\n",
              " 12,\n",
              " 12,\n",
              " 12,\n",
              " 12,\n",
              " 12,\n",
              " 12,\n",
              " 12,\n",
              " 13,\n",
              " 13,\n",
              " 13,\n",
              " 13,\n",
              " 14,\n",
              " 14,\n",
              " 14,\n",
              " 14,\n",
              " 14,\n",
              " 14,\n",
              " 15,\n",
              " 15,\n",
              " 15,\n",
              " 15,\n",
              " 15,\n",
              " 17,\n",
              " 19,\n",
              " 102,\n",
              " 107,\n",
              " 108]"
            ]
          },
          "metadata": {},
          "execution_count": 60
        }
      ]
    },
    {
      "cell_type": "code",
      "source": [
        "Q1 = np.quantile(sorted_dataset, .25)\n",
        "Q3 = np.quantile(sorted_dataset, .75)\n",
        "IQR = Q3 - Q1\n",
        "  \n",
        "print(IQR)"
      ],
      "metadata": {
        "id": "LSbUR3hZZJDX",
        "colab": {
          "base_uri": "https://localhost:8080/"
        },
        "outputId": "9ab3e6ba-28cd-44a9-a445-40437542a804"
      },
      "execution_count": null,
      "outputs": [
        {
          "output_type": "stream",
          "name": "stdout",
          "text": [
            "3.0\n"
          ]
        }
      ]
    },
    {
      "cell_type": "code",
      "source": [
        "lower_fence = Q1 - (1.5 * IQR) \n",
        "higher_fence = Q3 + (1.5 * IQR)"
      ],
      "metadata": {
        "id": "zWgxpbvvZtNN"
      },
      "execution_count": null,
      "outputs": []
    },
    {
      "cell_type": "code",
      "source": [
        "lower_fence, higher_fence"
      ],
      "metadata": {
        "colab": {
          "base_uri": "https://localhost:8080/"
        },
        "id": "JZcI4Snhak1h",
        "outputId": "7d200b08-78e0-4cbc-f93e-49f374479859"
      },
      "execution_count": null,
      "outputs": [
        {
          "output_type": "execute_result",
          "data": {
            "text/plain": [
              "(7.5, 19.5)"
            ]
          },
          "metadata": {},
          "execution_count": 78
        }
      ]
    },
    {
      "cell_type": "code",
      "source": [
        "q1,q3 = np.percentile(sorted_dataset, [25,75])\n",
        "print(q1,q3)"
      ],
      "metadata": {
        "id": "eaNwiAxxax-Y",
        "colab": {
          "base_uri": "https://localhost:8080/"
        },
        "outputId": "ca90d3cd-1d81-473f-f262-2e80f7aae3c5"
      },
      "execution_count": null,
      "outputs": [
        {
          "output_type": "stream",
          "name": "stdout",
          "text": [
            "12.0 15.0\n"
          ]
        }
      ]
    },
    {
      "cell_type": "code",
      "source": [
        "Lower_fence = q1 - (1.5 * IQR) \n",
        "Higher_fence = q3 + (1.5 * IQR)"
      ],
      "metadata": {
        "id": "LbsMDGphbV9Y"
      },
      "execution_count": null,
      "outputs": []
    },
    {
      "cell_type": "code",
      "source": [
        "lower_fence, Higher_fence"
      ],
      "metadata": {
        "colab": {
          "base_uri": "https://localhost:8080/"
        },
        "id": "WPqFi1UJdVX7",
        "outputId": "31f6cdcc-3748-45fe-de27-6232f563d37f"
      },
      "execution_count": null,
      "outputs": [
        {
          "output_type": "execute_result",
          "data": {
            "text/plain": [
              "(7.5, 19.5)"
            ]
          },
          "metadata": {},
          "execution_count": 80
        }
      ]
    },
    {
      "cell_type": "code",
      "source": [
        "def low_high_fence(data):\n",
        "    sorted_dataset = sorted(data)\n",
        "    Q1 = np.quantile(sorted_dataset, .25)\n",
        "    Q3 = np.quantile(sorted_dataset, .75)\n",
        "    IQR = Q3 - Q1\n",
        "    lower_fence = Q1 - (1.5 * IQR) \n",
        "    higher_fence = Q3 + (1.5 * IQR)\n",
        "    return (lower_fence, higher_fence)\n",
        "\n"
      ],
      "metadata": {
        "id": "TyqJekENdYzg"
      },
      "execution_count": null,
      "outputs": []
    },
    {
      "cell_type": "code",
      "source": [
        "low_high_fence(dataset)"
      ],
      "metadata": {
        "colab": {
          "base_uri": "https://localhost:8080/"
        },
        "id": "HP6ruPRceRDd",
        "outputId": "70e57a50-7dac-4641-afe4-b7e7bc764913"
      },
      "execution_count": null,
      "outputs": [
        {
          "output_type": "execute_result",
          "data": {
            "text/plain": [
              "(7.5, 19.5)"
            ]
          },
          "metadata": {},
          "execution_count": 85
        }
      ]
    },
    {
      "cell_type": "markdown",
      "source": [
        "##Learning Curves"
      ],
      "metadata": {
        "id": "xaRNKrakkQKG"
      }
    },
    {
      "cell_type": "code",
      "source": [
        "from sklearn.datasets import fetch_california_housing\n",
        "from sklearn.model_selection import train_test_split\n",
        "\n",
        "data = fetch_california_housing()\n",
        "X = data[\"data\"]\n",
        "y= data[\"target\"]\n",
        "X_train, X_test, y_train, y_test = train_test_split(X,y, test_size=0.3, random_state=0)"
      ],
      "metadata": {
        "id": "jukrrpNTeWJx"
      },
      "execution_count": 1,
      "outputs": []
    },
    {
      "cell_type": "code",
      "source": [
        "import matplotlib.pyplot as plt\n"
      ],
      "metadata": {
        "id": "DL0Do9k8eagD"
      },
      "execution_count": 2,
      "outputs": []
    },
    {
      "cell_type": "code",
      "source": [
        "from sklearn.tree import DecisionTreeRegressor\n",
        "\n",
        "rgr = DecisionTreeRegressor(max_depth=5)\n",
        "rgr.fit(X_train, y_train)\n",
        "print(\"training R^2: {}\".format(rgr.score(X_train, y_train)))\n",
        "print(\"training R^2: {}\".format(rgr.score(X_test, y_test)))"
      ],
      "metadata": {
        "colab": {
          "base_uri": "https://localhost:8080/"
        },
        "id": "YxtQjsu7efa1",
        "outputId": "8cd12d9b-f1c8-4862-f8c0-4baa1cae87bf"
      },
      "execution_count": 5,
      "outputs": [
        {
          "output_type": "stream",
          "name": "stdout",
          "text": [
            "training R^2: 0.6310818756253012\n",
            "training R^2: 0.5968627941966695\n"
          ]
        }
      ]
    },
    {
      "cell_type": "code",
      "source": [
        "rgr = DecisionTreeRegressor(max_depth=5)\n",
        "error_test = []\n",
        "error_train = []\n",
        "\n",
        "for n in range(50, X_train.shape[0], 50):\n",
        "    X_batch = X_train[:n, :]\n",
        "    y_batch = y_train[:n]\n",
        "\n",
        "    rgr.fit(X_batch , y_batch)\n",
        "    error_test.append(1-rgr.score(X_test, y_test))\n",
        "    error_train.append(1-rgr.score(X_batch, y_batch))"
      ],
      "metadata": {
        "id": "s_iXs8Y5fNCO"
      },
      "execution_count": 10,
      "outputs": []
    },
    {
      "cell_type": "code",
      "source": [
        "plt.plot(error_test)\n",
        "plt.plot(error_train)\n",
        "plt.legend([\"test error\", \"training error\"])\n",
        "plt.show()"
      ],
      "metadata": {
        "colab": {
          "base_uri": "https://localhost:8080/",
          "height": 265
        },
        "id": "ZrIewlakjDxQ",
        "outputId": "9e3a60cc-f004-4a62-e0f1-d34efdf4f402"
      },
      "execution_count": 11,
      "outputs": [
        {
          "output_type": "display_data",
          "data": {
            "image/png": "[encoded data removed]",
            "text/plain": [
              "<Figure size 432x288 with 1 Axes>"
            ]
          },
          "metadata": {
            "needs_background": "light"
          }
        }
      ]
    },
    {
      "cell_type": "markdown",
      "source": [
        "##*KNN* **bold text**\n",
        "#Decision Boundary"
      ],
      "metadata": {
        "id": "RVYb31ESq53k"
      }
    },
    {
      "cell_type": "code",
      "source": [
        "from ipywidgets import interact, IntSlider\n",
        "from sklearn.datasets import load_iris\n",
        "from sklearn.neighbors import KNeighborsClassifier\n",
        "from sklearn.preprocessing import StandardScaler\n",
        "\n",
        "\n",
        "data = load_iris()\n",
        "X = data['data']\n",
        "y = data['target']\n",
        "\n",
        "Xt = StandardScaler().fit_transform(X)\n",
        "\n",
        "\n",
        "def plot_neighbors(n_neighbors=1):\n",
        "    knn = KNeighborsClassifier(n_neighbors=n_neighbors)\n",
        "    knn.fit(Xt[:, 2:], y)\n",
        "\n",
        "    X1, X2 = np.meshgrid(np.linspace(-2,2), np.linspace(-2,2))\n",
        "    y_pred = knn.predict(np.hstack((X1.reshape(-1,1), X2.reshape(-1,1))))\n",
        "    plt.contourf(X1, X2, y_pred.reshape(50,50)/2, cmap='viridis', alpha=0.25, vmin=0, vmax=0.95)\n",
        "\n",
        "    plt.scatter(*Xt[:, 2:].T, c=y, cmap='viridis');\n",
        "\n",
        "interact(plot_neighbors, n_neighbors=IntSlider(min=1, max=36, step=2, description='neighbors'))"
      ],
      "metadata": {
        "colab": {
          "base_uri": "https://localhost:8080/",
          "height": 320,
          "referenced_widgets": [
            "5200d859e5374c09b4fe8589d28cb90c",
            "65a8447e8cc34f0e82fa74eab1dd024b",
            "afd2143998a24488a428cc10a516c37e",
            "ca4bd07fbad047f7bb334c568318552c",
            "cc2ac1fc1ce44a82908320d424228c55",
            "d9bd4772a0a84f288f38a5549a27e5e1",
            "b1ff79dac125451bbd38ee4d6646daec"
          ]
        },
        "id": "ujUocP_8jLpv",
        "outputId": "3acffea8-86d8-40d8-af5a-82322c88677b"
      },
      "execution_count": 17,
      "outputs": [
        {
          "output_type": "display_data",
          "data": {
            "application/vnd.jupyter.widget-view+json": {
              "model_id": "5200d859e5374c09b4fe8589d28cb90c",
              "version_minor": 0,
              "version_major": 2
            },
            "text/plain": [
              "interactive(children=(IntSlider(value=1, description='neighbors', max=36, min=1, step=2), Output()), _dom_clas…"
            ]
          },
          "metadata": {}
        },
        {
          "output_type": "execute_result",
          "data": {
            "text/plain": [
              "<function __main__.plot_neighbors>"
            ]
          },
          "metadata": {},
          "execution_count": 17
        }
      ]
    },
    {
      "cell_type": "code",
      "source": [
        ""
      ],
      "metadata": {
        "id": "YelfgZzLpiCs"
      },
      "execution_count": null,
      "outputs": []
    }
  ]
}